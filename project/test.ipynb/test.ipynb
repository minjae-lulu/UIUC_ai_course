{
 "cells": [
  {
   "cell_type": "code",
   "execution_count": 1,
   "metadata": {
    "executionInfo": {
     "elapsed": 937,
     "status": "ok",
     "timestamp": 1622302173590,
     "user": {
      "displayName": "Junwoo Yun",
      "photoUrl": "https://lh6.googleusercontent.com/-cg6EEikGzXE/AAAAAAAAAAI/AAAAAAAALOM/hPXlU1iO35A/s64/photo.jpg",
      "userId": "02880833375264387065"
     },
     "user_tz": -540
    },
    "id": "nhIADzhiveuc"
   },
   "outputs": [],
   "source": [
    "import pandas as pd\n",
    "import numpy as np\n",
    "import matplotlib.pyplot as plt\n",
    "import seaborn as sns\n",
    "import sklearn\n",
    "import warnings"
   ]
  },
  {
   "cell_type": "code",
   "execution_count": 2,
   "metadata": {
    "executionInfo": {
     "elapsed": 1543,
     "status": "ok",
     "timestamp": 1622302192864,
     "user": {
      "displayName": "Junwoo Yun",
      "photoUrl": "https://lh6.googleusercontent.com/-cg6EEikGzXE/AAAAAAAAAAI/AAAAAAAALOM/hPXlU1iO35A/s64/photo.jpg",
      "userId": "02880833375264387065"
     },
     "user_tz": -540
    },
    "id": "PcCN0BJeveue"
   },
   "outputs": [],
   "source": [
    "df = pd.read_csv('Classification_Titanic.csv')"
   ]
  },
  {
   "cell_type": "markdown",
   "metadata": {
    "id": "RhujI761veue"
   },
   "source": [
    "# Problem definition\n",
    "\n",
    "Our purpose is to predict whether passengers are alive or not, by the various features of Titanic passengers. I will make a hypothesis by graphing the survival results according to various features. Then I'll remove unnecessary features and patch up missing values according to circumstances. Then, I will make a model by various ways, evaluate and compare it. In summery, Our goal is the creation and evaluation of a model that determines y variale(Survival status), by the features of people on the Titanic.\n",
    "\n"
   ]
  },
  {
   "cell_type": "markdown",
   "metadata": {
    "id": "PamyE5mTveuf"
   },
   "source": [
    "# Hypothesis construction\n",
    "\n"
   ]
  },
  {
   "cell_type": "code",
   "execution_count": 3,
   "metadata": {
    "id": "ECE1b2hhveuf",
    "outputId": "ba7969aa-0188-4c20-811c-01713e8cd3ba"
   },
   "outputs": [
    {
     "data": {
      "text/html": [
       "<img src=\"https://static1.squarespace.com/static/5006453fe4b09ef2252ba068/t/5090b249e4b047ba54dfd258/1351660113175/TItanic-Survival-Infographic.jpg?format=1500w\"/>"
      ],
      "text/plain": [
       "<IPython.core.display.Image object>"
      ]
     },
     "execution_count": 3,
     "metadata": {},
     "output_type": "execute_result"
    }
   ],
   "source": [
    "from IPython.display import Image\n",
    "Image(url= \"https://static1.squarespace.com/static/5006453fe4b09ef2252ba068/t/5090b249e4b047ba54dfd258/1351660113175/TItanic-Survival-Infographic.jpg?format=1500w\")"
   ]
  },
  {
   "cell_type": "markdown",
   "metadata": {
    "id": "5YmiH8hYveug"
   },
   "source": [
    "Figure 1 shows that the third-class compartment, the pink border on the right, sank first. In other words, people in the third-class compartment would be relatively more likely to die, and first and two class would be less likely to die. Pclass will also be associated with fair, so the probability of death will vary depending on fair. Also, I will check the correlation graph later if there is anything related to Pclass. It is also said that the first-class compartment and the life-saving tube were close. Age and gender would also have affected survival probabilities, as there was also a cultural tendency to rescue women than men and children and the elderly than adults. It is also expected that more people who come together than alone will have a higher chance of survival by saving or cooperating with each other."
   ]
  },
  {
   "cell_type": "code",
   "execution_count": 4,
   "metadata": {
    "colab": {
     "base_uri": "https://localhost:8080/",
     "height": 309
    },
    "executionInfo": {
     "elapsed": 426,
     "status": "ok",
     "timestamp": 1622302199054,
     "user": {
      "displayName": "Junwoo Yun",
      "photoUrl": "https://lh6.googleusercontent.com/-cg6EEikGzXE/AAAAAAAAAAI/AAAAAAAALOM/hPXlU1iO35A/s64/photo.jpg",
      "userId": "02880833375264387065"
     },
     "user_tz": -540
    },
    "id": "sanQ0Pj3veug",
    "outputId": "52f73806-694b-4f47-ce67-96b815d94948"
   },
   "outputs": [
    {
     "data": {
      "text/html": [
       "<div>\n",
       "<style scoped>\n",
       "    .dataframe tbody tr th:only-of-type {\n",
       "        vertical-align: middle;\n",
       "    }\n",
       "\n",
       "    .dataframe tbody tr th {\n",
       "        vertical-align: top;\n",
       "    }\n",
       "\n",
       "    .dataframe thead th {\n",
       "        text-align: right;\n",
       "    }\n",
       "</style>\n",
       "<table border=\"1\" class=\"dataframe\">\n",
       "  <thead>\n",
       "    <tr style=\"text-align: right;\">\n",
       "      <th></th>\n",
       "      <th>PassengerId</th>\n",
       "      <th>Survived</th>\n",
       "      <th>Pclass</th>\n",
       "      <th>Name</th>\n",
       "      <th>Sex</th>\n",
       "      <th>Age</th>\n",
       "      <th>SibSp</th>\n",
       "      <th>Parch</th>\n",
       "      <th>Ticket</th>\n",
       "      <th>Fare</th>\n",
       "      <th>Cabin</th>\n",
       "      <th>Embarked</th>\n",
       "    </tr>\n",
       "  </thead>\n",
       "  <tbody>\n",
       "    <tr>\n",
       "      <th>0</th>\n",
       "      <td>0</td>\n",
       "      <td>1</td>\n",
       "      <td>1</td>\n",
       "      <td>Oconnor, Frankie</td>\n",
       "      <td>male</td>\n",
       "      <td>NaN</td>\n",
       "      <td>2</td>\n",
       "      <td>0</td>\n",
       "      <td>209245</td>\n",
       "      <td>27.14</td>\n",
       "      <td>C12239</td>\n",
       "      <td>S</td>\n",
       "    </tr>\n",
       "    <tr>\n",
       "      <th>1</th>\n",
       "      <td>1</td>\n",
       "      <td>0</td>\n",
       "      <td>3</td>\n",
       "      <td>Bryan, Drew</td>\n",
       "      <td>male</td>\n",
       "      <td>NaN</td>\n",
       "      <td>0</td>\n",
       "      <td>0</td>\n",
       "      <td>27323</td>\n",
       "      <td>13.35</td>\n",
       "      <td>NaN</td>\n",
       "      <td>S</td>\n",
       "    </tr>\n",
       "    <tr>\n",
       "      <th>2</th>\n",
       "      <td>2</td>\n",
       "      <td>0</td>\n",
       "      <td>3</td>\n",
       "      <td>Owens, Kenneth</td>\n",
       "      <td>male</td>\n",
       "      <td>0.33</td>\n",
       "      <td>1</td>\n",
       "      <td>2</td>\n",
       "      <td>CA 457703</td>\n",
       "      <td>71.29</td>\n",
       "      <td>NaN</td>\n",
       "      <td>S</td>\n",
       "    </tr>\n",
       "    <tr>\n",
       "      <th>3</th>\n",
       "      <td>3</td>\n",
       "      <td>0</td>\n",
       "      <td>3</td>\n",
       "      <td>Kramer, James</td>\n",
       "      <td>male</td>\n",
       "      <td>19.00</td>\n",
       "      <td>0</td>\n",
       "      <td>0</td>\n",
       "      <td>A. 10866</td>\n",
       "      <td>13.04</td>\n",
       "      <td>NaN</td>\n",
       "      <td>S</td>\n",
       "    </tr>\n",
       "    <tr>\n",
       "      <th>4</th>\n",
       "      <td>4</td>\n",
       "      <td>1</td>\n",
       "      <td>3</td>\n",
       "      <td>Bond, Michael</td>\n",
       "      <td>male</td>\n",
       "      <td>25.00</td>\n",
       "      <td>0</td>\n",
       "      <td>0</td>\n",
       "      <td>427635</td>\n",
       "      <td>7.76</td>\n",
       "      <td>NaN</td>\n",
       "      <td>S</td>\n",
       "    </tr>\n",
       "  </tbody>\n",
       "</table>\n",
       "</div>"
      ],
      "text/plain": [
       "   PassengerId  Survived  Pclass              Name   Sex    Age  SibSp  Parch  \\\n",
       "0            0         1       1  Oconnor, Frankie  male    NaN      2      0   \n",
       "1            1         0       3       Bryan, Drew  male    NaN      0      0   \n",
       "2            2         0       3    Owens, Kenneth  male   0.33      1      2   \n",
       "3            3         0       3     Kramer, James  male  19.00      0      0   \n",
       "4            4         1       3     Bond, Michael  male  25.00      0      0   \n",
       "\n",
       "      Ticket   Fare   Cabin Embarked  \n",
       "0     209245  27.14  C12239        S  \n",
       "1      27323  13.35     NaN        S  \n",
       "2  CA 457703  71.29     NaN        S  \n",
       "3   A. 10866  13.04     NaN        S  \n",
       "4     427635   7.76     NaN        S  "
      ]
     },
     "execution_count": 4,
     "metadata": {},
     "output_type": "execute_result"
    }
   ],
   "source": [
    "df.head()"
   ]
  },
  {
   "cell_type": "code",
   "execution_count": 5,
   "metadata": {
    "colab": {
     "base_uri": "https://localhost:8080/"
    },
    "executionInfo": {
     "elapsed": 3,
     "status": "ok",
     "timestamp": 1622302199374,
     "user": {
      "displayName": "Junwoo Yun",
      "photoUrl": "https://lh6.googleusercontent.com/-cg6EEikGzXE/AAAAAAAAAAI/AAAAAAAALOM/hPXlU1iO35A/s64/photo.jpg",
      "userId": "02880833375264387065"
     },
     "user_tz": -540
    },
    "id": "r4Ix8e1Kveug",
    "outputId": "3b2bcf9b-d6c3-4c9a-e79e-5e5d61b2d4d3"
   },
   "outputs": [
    {
     "data": {
      "text/plain": [
       "(100000, 12)"
      ]
     },
     "execution_count": 5,
     "metadata": {},
     "output_type": "execute_result"
    }
   ],
   "source": [
    "df.shape"
   ]
  },
  {
   "cell_type": "code",
   "execution_count": 6,
   "metadata": {
    "executionInfo": {
     "elapsed": 3,
     "status": "ok",
     "timestamp": 1622302200914,
     "user": {
      "displayName": "Junwoo Yun",
      "photoUrl": "https://lh6.googleusercontent.com/-cg6EEikGzXE/AAAAAAAAAAI/AAAAAAAALOM/hPXlU1iO35A/s64/photo.jpg",
      "userId": "02880833375264387065"
     },
     "user_tz": -540
    },
    "id": "7WR7lEHlveuh"
   },
   "outputs": [],
   "source": [
    "from sklearn.model_selection import StratifiedShuffleSplit"
   ]
  },
  {
   "cell_type": "code",
   "execution_count": 7,
   "metadata": {
    "executionInfo": {
     "elapsed": 2,
     "status": "ok",
     "timestamp": 1622302201600,
     "user": {
      "displayName": "Junwoo Yun",
      "photoUrl": "https://lh6.googleusercontent.com/-cg6EEikGzXE/AAAAAAAAAAI/AAAAAAAALOM/hPXlU1iO35A/s64/photo.jpg",
      "userId": "02880833375264387065"
     },
     "user_tz": -540
    },
    "id": "JgxB6jUMveuh"
   },
   "outputs": [],
   "source": [
    "split = StratifiedShuffleSplit(n_splits=1, test_size=0.2, random_state=40)\n",
    "\n",
    "for train_idx, test_idx in split.split(df,df['Survived']):\n",
    "    train = df.loc[train_idx]\n",
    "    test = df.loc[test_idx]"
   ]
  },
  {
   "cell_type": "code",
   "execution_count": 8,
   "metadata": {
    "executionInfo": {
     "elapsed": 3,
     "status": "ok",
     "timestamp": 1622302202399,
     "user": {
      "displayName": "Junwoo Yun",
      "photoUrl": "https://lh6.googleusercontent.com/-cg6EEikGzXE/AAAAAAAAAAI/AAAAAAAALOM/hPXlU1iO35A/s64/photo.jpg",
      "userId": "02880833375264387065"
     },
     "user_tz": -540
    },
    "id": "UfpV0Hnaveuh"
   },
   "outputs": [],
   "source": [
    "def bar_chart(feature):\n",
    "    survived = train[train['Survived']==1][feature].value_counts()\n",
    "    dead = train[train['Survived']==0][feature].value_counts()\n",
    "    df = pd.DataFrame([survived,dead])\n",
    "    df.index = ['Survived','Dead']\n",
    "    df.plot(kind='bar',stacked=True, figsize=(10,5))"
   ]
  },
  {
   "cell_type": "markdown",
   "metadata": {
    "id": "u4zUWj4bveuh"
   },
   "source": [
    "## Pclass\n",
    "\n",
    "As expected in the first figure, many people died in the third class. As expected in the first picture, many people died in the third class. The first and second classes died at a similar rate. Unlike other classes where male and female rode similarly, male rode twice as much in third class as female. Most of them were embarked S in all class, but especially in the third class, Most were embarked S."
   ]
  },
  {
   "cell_type": "code",
   "execution_count": 9,
   "metadata": {
    "colab": {
     "base_uri": "https://localhost:8080/",
     "height": 541
    },
    "executionInfo": {
     "elapsed": 1022,
     "status": "ok",
     "timestamp": 1622302205116,
     "user": {
      "displayName": "Junwoo Yun",
      "photoUrl": "https://lh6.googleusercontent.com/-cg6EEikGzXE/AAAAAAAAAAI/AAAAAAAALOM/hPXlU1iO35A/s64/photo.jpg",
      "userId": "02880833375264387065"
     },
     "user_tz": -540
    },
    "id": "sHZPoEO8veui",
    "outputId": "74753f9f-3b56-45c3-886c-4bbe4e1fca16",
    "scrolled": true
   },
   "outputs": [
    {
     "data": {
      "text/html": [
       "<div>\n",
       "<style scoped>\n",
       "    .dataframe tbody tr th:only-of-type {\n",
       "        vertical-align: middle;\n",
       "    }\n",
       "\n",
       "    .dataframe tbody tr th {\n",
       "        vertical-align: top;\n",
       "    }\n",
       "\n",
       "    .dataframe thead th {\n",
       "        text-align: right;\n",
       "    }\n",
       "</style>\n",
       "<table border=\"1\" class=\"dataframe\">\n",
       "  <thead>\n",
       "    <tr style=\"text-align: right;\">\n",
       "      <th>Survived</th>\n",
       "      <th>0</th>\n",
       "      <th>1</th>\n",
       "      <th>All</th>\n",
       "    </tr>\n",
       "    <tr>\n",
       "      <th>Pclass</th>\n",
       "      <th></th>\n",
       "      <th></th>\n",
       "      <th></th>\n",
       "    </tr>\n",
       "  </thead>\n",
       "  <tbody>\n",
       "    <tr>\n",
       "      <th>1</th>\n",
       "      <td>12739</td>\n",
       "      <td>17576</td>\n",
       "      <td>30315</td>\n",
       "    </tr>\n",
       "    <tr>\n",
       "      <th>2</th>\n",
       "      <td>13622</td>\n",
       "      <td>15057</td>\n",
       "      <td>28679</td>\n",
       "    </tr>\n",
       "    <tr>\n",
       "      <th>3</th>\n",
       "      <td>30865</td>\n",
       "      <td>10141</td>\n",
       "      <td>41006</td>\n",
       "    </tr>\n",
       "    <tr>\n",
       "      <th>All</th>\n",
       "      <td>57226</td>\n",
       "      <td>42774</td>\n",
       "      <td>100000</td>\n",
       "    </tr>\n",
       "  </tbody>\n",
       "</table>\n",
       "</div>"
      ],
      "text/plain": [
       "Survived      0      1     All\n",
       "Pclass                        \n",
       "1         12739  17576   30315\n",
       "2         13622  15057   28679\n",
       "3         30865  10141   41006\n",
       "All       57226  42774  100000"
      ]
     },
     "execution_count": 9,
     "metadata": {},
     "output_type": "execute_result"
    },
    {
     "data": {
      "image/png": "[encoded data removed]",
      "text/plain": [
       "<Figure size 720x360 with 1 Axes>"
      ]
     },
     "metadata": {
      "needs_background": "light"
     },
     "output_type": "display_data"
    }
   ],
   "source": [
    "bar_chart('Pclass')\n",
    "pd.crosstab(df['Pclass'], df['Survived'], margins=True)"
   ]
  },
  {
   "cell_type": "code",
   "execution_count": 10,
   "metadata": {
    "colab": {
     "base_uri": "https://localhost:8080/",
     "height": 787
    },
    "executionInfo": {
     "elapsed": 682,
     "status": "ok",
     "timestamp": 1622302205794,
     "user": {
      "displayName": "Junwoo Yun",
      "photoUrl": "https://lh6.googleusercontent.com/-cg6EEikGzXE/AAAAAAAAAAI/AAAAAAAALOM/hPXlU1iO35A/s64/photo.jpg",
      "userId": "02880833375264387065"
     },
     "user_tz": -540
    },
    "id": "oAKQXeAJveui",
    "outputId": "c88f7040-de91-4682-be98-3e0eab80c595"
   },
   "outputs": [
    {
     "name": "stderr",
     "output_type": "stream",
     "text": [
      "/opt/anaconda3/lib/python3.8/site-packages/seaborn/_decorators.py:36: FutureWarning: Pass the following variable as a keyword arg: x. From version 0.12, the only valid positional argument will be `data`, and passing other arguments without an explicit keyword will result in an error or misinterpretation.\n",
      "  warnings.warn(\n",
      "/opt/anaconda3/lib/python3.8/site-packages/seaborn/_decorators.py:36: FutureWarning: Pass the following variable as a keyword arg: x. From version 0.12, the only valid positional argument will be `data`, and passing other arguments without an explicit keyword will result in an error or misinterpretation.\n",
      "  warnings.warn(\n",
      "/opt/anaconda3/lib/python3.8/site-packages/seaborn/_decorators.py:36: FutureWarning: Pass the following variable as a keyword arg: x. From version 0.12, the only valid positional argument will be `data`, and passing other arguments without an explicit keyword will result in an error or misinterpretation.\n",
      "  warnings.warn(\n",
      "/opt/anaconda3/lib/python3.8/site-packages/seaborn/_decorators.py:36: FutureWarning: Pass the following variable as a keyword arg: x. From version 0.12, the only valid positional argument will be `data`, and passing other arguments without an explicit keyword will result in an error or misinterpretation.\n",
      "  warnings.warn(\n"
     ]
    },
    {
     "data": {
      "image/png": "[encoded data removed]",
      "text/plain": [
       "<Figure size 1080x864 with 4 Axes>"
      ]
     },
     "metadata": {
      "needs_background": "light"
     },
     "output_type": "display_data"
    }
   ],
   "source": [
    "f,ax=plt.subplots(2, 2, figsize=(15,12))\n",
    "sns.countplot('Pclass', data=df, ax=ax[0,0])\n",
    "ax[0,0].set_title('(1) No. Of Passengers Boarded')\n",
    "sns.countplot('Pclass', hue='Sex', data=df, ax=ax[0,1])\n",
    "ax[0,1].set_title('(2) Male-Female Split for Pclass')\n",
    "sns.countplot('Pclass', hue='Survived', data=df, ax=ax[1,0])\n",
    "ax[1,0].set_title('(3) Pclass vs Survived')\n",
    "sns.countplot('Pclass', hue='Embarked', data=df, ax=ax[1,1])\n",
    "ax[1,1].set_title('(4) Pclass vs Embarked')\n",
    "plt.subplots_adjust(wspace=0.2, hspace=0.5)\n",
    "warnings.filterwarnings(action='ignore') \n",
    "plt.show()"
   ]
  },
  {
   "cell_type": "markdown",
   "metadata": {
    "id": "AZquljl2veui"
   },
   "source": [
    "## Sex\n",
    "Male have died more than female. At figure 2-2, male died more than female in all classes. Gender can also be seen to have a significant impact on survival probability. Also, third class male has very little chance of survival."
   ]
  },
  {
   "cell_type": "code",
   "execution_count": 11,
   "metadata": {
    "colab": {
     "base_uri": "https://localhost:8080/",
     "height": 510
    },
    "executionInfo": {
     "elapsed": 336,
     "status": "ok",
     "timestamp": 1622302206954,
     "user": {
      "displayName": "Junwoo Yun",
      "photoUrl": "https://lh6.googleusercontent.com/-cg6EEikGzXE/AAAAAAAAAAI/AAAAAAAALOM/hPXlU1iO35A/s64/photo.jpg",
      "userId": "02880833375264387065"
     },
     "user_tz": -540
    },
    "id": "a2GIEZk9veui",
    "outputId": "727e8e68-801f-4a34-9e59-32f26e41ff37"
   },
   "outputs": [
    {
     "data": {
      "text/html": [
       "<div>\n",
       "<style scoped>\n",
       "    .dataframe tbody tr th:only-of-type {\n",
       "        vertical-align: middle;\n",
       "    }\n",
       "\n",
       "    .dataframe tbody tr th {\n",
       "        vertical-align: top;\n",
       "    }\n",
       "\n",
       "    .dataframe thead th {\n",
       "        text-align: right;\n",
       "    }\n",
       "</style>\n",
       "<table border=\"1\" class=\"dataframe\">\n",
       "  <thead>\n",
       "    <tr style=\"text-align: right;\">\n",
       "      <th>Survived</th>\n",
       "      <th>0</th>\n",
       "      <th>1</th>\n",
       "      <th>All</th>\n",
       "    </tr>\n",
       "    <tr>\n",
       "      <th>Sex</th>\n",
       "      <th></th>\n",
       "      <th></th>\n",
       "      <th></th>\n",
       "    </tr>\n",
       "  </thead>\n",
       "  <tbody>\n",
       "    <tr>\n",
       "      <th>female</th>\n",
       "      <td>12660</td>\n",
       "      <td>31226</td>\n",
       "      <td>43886</td>\n",
       "    </tr>\n",
       "    <tr>\n",
       "      <th>male</th>\n",
       "      <td>44566</td>\n",
       "      <td>11548</td>\n",
       "      <td>56114</td>\n",
       "    </tr>\n",
       "    <tr>\n",
       "      <th>All</th>\n",
       "      <td>57226</td>\n",
       "      <td>42774</td>\n",
       "      <td>100000</td>\n",
       "    </tr>\n",
       "  </tbody>\n",
       "</table>\n",
       "</div>"
      ],
      "text/plain": [
       "Survived      0      1     All\n",
       "Sex                           \n",
       "female    12660  31226   43886\n",
       "male      44566  11548   56114\n",
       "All       57226  42774  100000"
      ]
     },
     "execution_count": 11,
     "metadata": {},
     "output_type": "execute_result"
    },
    {
     "data": {
      "image/png": "[encoded data removed]",
      "text/plain": [
       "<Figure size 720x360 with 1 Axes>"
      ]
     },
     "metadata": {
      "needs_background": "light"
     },
     "output_type": "display_data"
    }
   ],
   "source": [
    "bar_chart('Sex')\n",
    "pd.crosstab(df['Sex'], df['Survived'], margins=True)"
   ]
  },
  {
   "cell_type": "code",
   "execution_count": 12,
   "metadata": {
    "colab": {
     "base_uri": "https://localhost:8080/",
     "height": 450
    },
    "executionInfo": {
     "elapsed": 2048,
     "status": "ok",
     "timestamp": 1622302231392,
     "user": {
      "displayName": "Junwoo Yun",
      "photoUrl": "https://lh6.googleusercontent.com/-cg6EEikGzXE/AAAAAAAAAAI/AAAAAAAALOM/hPXlU1iO35A/s64/photo.jpg",
      "userId": "02880833375264387065"
     },
     "user_tz": -540
    },
    "id": "TrCv472Cveuj",
    "outputId": "ea6c47a1-82e5-447e-cc47-b55612d49129"
   },
   "outputs": [
    {
     "data": {
      "image/png": "[encoded data removed]",
      "text/plain": [
       "<Figure size 646.5x288 with 1 Axes>"
      ]
     },
     "metadata": {
      "needs_background": "light"
     },
     "output_type": "display_data"
    }
   ],
   "source": [
    "sns.factorplot('Pclass', 'Survived', hue='Sex', data=df, size=4, aspect=2)\n",
    "warnings.filterwarnings(action='ignore') "
   ]
  },
  {
   "cell_type": "markdown",
   "metadata": {
    "id": "X8TDkQfDveuj"
   },
   "source": [
    "## SibSp , Parch \n",
    "Both Sibsp and Parch were more likely to die alone. Both of them are similar features, so they are combined into Family. As expected, those who came alone had the lowest chance of survival in Family. The case with the highest chance of survival is when two people come together, probably because they are a couple so cooperate to save each other.\n"
   ]
  },
  {
   "cell_type": "code",
   "execution_count": 13,
   "metadata": {
    "colab": {
     "base_uri": "https://localhost:8080/",
     "height": 691
    },
    "executionInfo": {
     "elapsed": 723,
     "status": "ok",
     "timestamp": 1622302235402,
     "user": {
      "displayName": "Junwoo Yun",
      "photoUrl": "https://lh6.googleusercontent.com/-cg6EEikGzXE/AAAAAAAAAAI/AAAAAAAALOM/hPXlU1iO35A/s64/photo.jpg",
      "userId": "02880833375264387065"
     },
     "user_tz": -540
    },
    "id": "EQKKfyFyveuj",
    "outputId": "ea14f7df-799e-4a92-ef26-edea9cf0292c"
   },
   "outputs": [
    {
     "data": {
      "image/png": "[encoded data removed]",
      "text/plain": [
       "<Figure size 720x360 with 1 Axes>"
      ]
     },
     "metadata": {
      "needs_background": "light"
     },
     "output_type": "display_data"
    },
    {
     "data": {
      "image/png": "[encoded data removed]",
      "text/plain": [
       "<Figure size 720x360 with 1 Axes>"
      ]
     },
     "metadata": {
      "needs_background": "light"
     },
     "output_type": "display_data"
    }
   ],
   "source": [
    "bar_chart('SibSp')\n",
    "bar_chart('Parch')"
   ]
  },
  {
   "cell_type": "code",
   "execution_count": 14,
   "metadata": {
    "colab": {
     "base_uri": "https://localhost:8080/",
     "height": 348
    },
    "executionInfo": {
     "elapsed": 1807,
     "status": "ok",
     "timestamp": 1622302237207,
     "user": {
      "displayName": "Junwoo Yun",
      "photoUrl": "https://lh6.googleusercontent.com/-cg6EEikGzXE/AAAAAAAAAAI/AAAAAAAALOM/hPXlU1iO35A/s64/photo.jpg",
      "userId": "02880833375264387065"
     },
     "user_tz": -540
    },
    "id": "YKdBB4jtveuj",
    "outputId": "fcd9bdb3-2d15-4af2-95d6-b09e49f2f624"
   },
   "outputs": [
    {
     "data": {
      "image/png": "[encoded data removed]",
      "text/plain": [
       "<Figure size 3600x1080 with 3 Axes>"
      ]
     },
     "metadata": {
      "needs_background": "light"
     },
     "output_type": "display_data"
    }
   ],
   "source": [
    "df['FamilySize'] = df['SibSp'] + df['Parch'] + 1\n",
    "df.drop(['SibSp', 'Parch'], axis=1, inplace=True)\n",
    "f,ax=plt.subplots(1, 3, figsize=(50,15))\n",
    "sns.countplot('FamilySize', data=df, ax=ax[0])\n",
    "ax[0].set_title('(1) No. Of Passengers Boarded', y=1.02)\n",
    "\n",
    "sns.countplot('FamilySize', hue='Survived', data=df, ax=ax[1])\n",
    "ax[1].set_title('(2) Survived countplot depending on FamilySize',  y=1.02)\n",
    "\n",
    "df[['FamilySize', 'Survived']].groupby(['FamilySize'], as_index=True).mean().sort_values(by='Survived', ascending=False).plot.bar(ax=ax[2])\n",
    "ax[2].set_title('(3) Survived rate depending on FamilySize',  y=1.02)\n",
    "\n",
    "plt.subplots_adjust(wspace=0.2, hspace=0.5)\n",
    "warnings.filterwarnings(action='ignore') \n",
    "plt.show()"
   ]
  },
  {
   "cell_type": "markdown",
   "metadata": {
    "id": "qQ5yOdYiveuk"
   },
   "source": [
    "## Embarked\n",
    "\n",
    "Mostly Embarked S died a lot. C lived rather a lot, and Q had a similar survival rate. Male rode twice as much as a woman in S. The rest, female rode more than male. Also, third class was used a lot in S and first class in C and Q. In C and Q, relatively wealthy people would have ridden."
   ]
  },
  {
   "cell_type": "code",
   "execution_count": 15,
   "metadata": {
    "colab": {
     "base_uri": "https://localhost:8080/",
     "height": 541
    },
    "executionInfo": {
     "elapsed": 7,
     "status": "ok",
     "timestamp": 1622302237207,
     "user": {
      "displayName": "Junwoo Yun",
      "photoUrl": "https://lh6.googleusercontent.com/-cg6EEikGzXE/AAAAAAAAAAI/AAAAAAAALOM/hPXlU1iO35A/s64/photo.jpg",
      "userId": "02880833375264387065"
     },
     "user_tz": -540
    },
    "id": "dPfk5Iz9veuk",
    "outputId": "1396867a-139d-41d9-f722-e9dd08514403"
   },
   "outputs": [
    {
     "data": {
      "text/html": [
       "<div>\n",
       "<style scoped>\n",
       "    .dataframe tbody tr th:only-of-type {\n",
       "        vertical-align: middle;\n",
       "    }\n",
       "\n",
       "    .dataframe tbody tr th {\n",
       "        vertical-align: top;\n",
       "    }\n",
       "\n",
       "    .dataframe thead th {\n",
       "        text-align: right;\n",
       "    }\n",
       "</style>\n",
       "<table border=\"1\" class=\"dataframe\">\n",
       "  <thead>\n",
       "    <tr style=\"text-align: right;\">\n",
       "      <th>Survived</th>\n",
       "      <th>0</th>\n",
       "      <th>1</th>\n",
       "      <th>All</th>\n",
       "    </tr>\n",
       "    <tr>\n",
       "      <th>Embarked</th>\n",
       "      <th></th>\n",
       "      <th></th>\n",
       "      <th></th>\n",
       "    </tr>\n",
       "  </thead>\n",
       "  <tbody>\n",
       "    <tr>\n",
       "      <th>C</th>\n",
       "      <td>5518</td>\n",
       "      <td>16669</td>\n",
       "      <td>22187</td>\n",
       "    </tr>\n",
       "    <tr>\n",
       "      <th>Q</th>\n",
       "      <td>2186</td>\n",
       "      <td>3238</td>\n",
       "      <td>5424</td>\n",
       "    </tr>\n",
       "    <tr>\n",
       "      <th>S</th>\n",
       "      <td>49394</td>\n",
       "      <td>22745</td>\n",
       "      <td>72139</td>\n",
       "    </tr>\n",
       "    <tr>\n",
       "      <th>All</th>\n",
       "      <td>57098</td>\n",
       "      <td>42652</td>\n",
       "      <td>99750</td>\n",
       "    </tr>\n",
       "  </tbody>\n",
       "</table>\n",
       "</div>"
      ],
      "text/plain": [
       "Survived      0      1    All\n",
       "Embarked                     \n",
       "C          5518  16669  22187\n",
       "Q          2186   3238   5424\n",
       "S         49394  22745  72139\n",
       "All       57098  42652  99750"
      ]
     },
     "execution_count": 15,
     "metadata": {},
     "output_type": "execute_result"
    },
    {
     "data": {
      "image/png": "[encoded data removed]",
      "text/plain": [
       "<Figure size 720x360 with 1 Axes>"
      ]
     },
     "metadata": {
      "needs_background": "light"
     },
     "output_type": "display_data"
    }
   ],
   "source": [
    "bar_chart('Embarked')\n",
    "pd.crosstab(df['Embarked'], df['Survived'], margins=True)"
   ]
  },
  {
   "cell_type": "code",
   "execution_count": 16,
   "metadata": {
    "colab": {
     "base_uri": "https://localhost:8080/",
     "height": 787
    },
    "executionInfo": {
     "elapsed": 845,
     "status": "ok",
     "timestamp": 1622302238047,
     "user": {
      "displayName": "Junwoo Yun",
      "photoUrl": "https://lh6.googleusercontent.com/-cg6EEikGzXE/AAAAAAAAAAI/AAAAAAAALOM/hPXlU1iO35A/s64/photo.jpg",
      "userId": "02880833375264387065"
     },
     "user_tz": -540
    },
    "id": "Qpi3Yrllveum",
    "outputId": "1afa0646-ee93-4fa3-eec9-8b5dc943ac1b"
   },
   "outputs": [
    {
     "data": {
      "image/png": "[encoded data removed]",
      "text/plain": [
       "<Figure size 1080x864 with 4 Axes>"
      ]
     },
     "metadata": {
      "needs_background": "light"
     },
     "output_type": "display_data"
    }
   ],
   "source": [
    "f,ax=plt.subplots(2, 2, figsize=(15,12))\n",
    "sns.countplot('Embarked', data=df, ax=ax[0,0])\n",
    "ax[0,0].set_title('(1) No. Of Passengers Boarded')\n",
    "sns.countplot('Embarked', hue='Sex', data=df, ax=ax[0,1])\n",
    "ax[0,1].set_title('(2) Male-Female Split for Embarked')\n",
    "sns.countplot('Embarked', hue='Survived', data=df, ax=ax[1,0])\n",
    "ax[1,0].set_title('(3) Embarked vs Survived')\n",
    "sns.countplot('Embarked', hue='Pclass', data=df, ax=ax[1,1])\n",
    "ax[1,1].set_title('(4) Embarked vs Pclass')\n",
    "plt.subplots_adjust(wspace=0.2, hspace=0.5)\n",
    "warnings.filterwarnings(action='ignore') \n",
    "plt.show()"
   ]
  },
  {
   "cell_type": "markdown",
   "metadata": {
    "id": "a5g2iIHRveum"
   },
   "source": [
    "## age\n",
    "\n",
    "Many people, mostly in their 20s and 30s, died. Surprisingly, young children had a half-and-half survival rate, while those in their 40s and older had a slightly higher chance of living. Perhaps people in their 20s and 30s are trying to save people of different ages, resulting in this result."
   ]
  },
  {
   "cell_type": "code",
   "execution_count": 17,
   "metadata": {
    "colab": {
     "base_uri": "https://localhost:8080/"
    },
    "executionInfo": {
     "elapsed": 7,
     "status": "ok",
     "timestamp": 1622302238048,
     "user": {
      "displayName": "Junwoo Yun",
      "photoUrl": "https://lh6.googleusercontent.com/-cg6EEikGzXE/AAAAAAAAAAI/AAAAAAAALOM/hPXlU1iO35A/s64/photo.jpg",
      "userId": "02880833375264387065"
     },
     "user_tz": -540
    },
    "id": "O6YC65izveum",
    "outputId": "23521df9-fa63-4d21-c0c3-39e3beefa6c1"
   },
   "outputs": [
    {
     "name": "stdout",
     "output_type": "stream",
     "text": [
      "oldest : 87.0 Years\n",
      "youngest : 0.1 Years\n",
      "average age : 38.4 Years\n"
     ]
    }
   ],
   "source": [
    "print('oldest : {:.1f} Years'.format(df['Age'].max()))\n",
    "print('youngest : {:.1f} Years'.format(df['Age'].min()))\n",
    "print('average age : {:.1f} Years'.format(df['Age'].mean()))"
   ]
  },
  {
   "cell_type": "code",
   "execution_count": 18,
   "metadata": {
    "colab": {
     "base_uri": "https://localhost:8080/",
     "height": 334
    },
    "executionInfo": {
     "elapsed": 639,
     "status": "ok",
     "timestamp": 1622302238683,
     "user": {
      "displayName": "Junwoo Yun",
      "photoUrl": "https://lh6.googleusercontent.com/-cg6EEikGzXE/AAAAAAAAAAI/AAAAAAAALOM/hPXlU1iO35A/s64/photo.jpg",
      "userId": "02880833375264387065"
     },
     "user_tz": -540
    },
    "id": "rpZDoHXRveun",
    "outputId": "283ae253-400f-400e-8c83-776eefd56b77"
   },
   "outputs": [
    {
     "data": {
      "image/png": "[encoded data removed]",
      "text/plain": [
       "<Figure size 720x360 with 1 Axes>"
      ]
     },
     "metadata": {
      "needs_background": "light"
     },
     "output_type": "display_data"
    }
   ],
   "source": [
    "fig, ax = plt.subplots(1, 1, figsize=(10, 5))\n",
    "sns.kdeplot(df[df['Survived'] == 1]['Age'], ax=ax)\n",
    "sns.kdeplot(df[df['Survived'] == 0]['Age'], ax=ax)\n",
    "plt.legend(['Survived == 1', 'Survived == 0'])\n",
    "plt.show()"
   ]
  },
  {
   "cell_type": "markdown",
   "metadata": {
    "id": "X1usUnCeveun"
   },
   "source": [
    "# Feature engineering"
   ]
  },
  {
   "cell_type": "markdown",
   "metadata": {
    "id": "rvie5PHyveun"
   },
   "source": [
    "I first confirm the distribution of Survived through Figure 3. Since it is supposed to be Balanced, I did feature engineering without any other procedures."
   ]
  },
  {
   "cell_type": "code",
   "execution_count": 19,
   "metadata": {
    "executionInfo": {
     "elapsed": 5,
     "status": "ok",
     "timestamp": 1622302238683,
     "user": {
      "displayName": "Junwoo Yun",
      "photoUrl": "https://lh6.googleusercontent.com/-cg6EEikGzXE/AAAAAAAAAAI/AAAAAAAALOM/hPXlU1iO35A/s64/photo.jpg",
      "userId": "02880833375264387065"
     },
     "user_tz": -540
    },
    "id": "5no05eDHveun"
   },
   "outputs": [],
   "source": [
    "# copy data for preventing damage in raw training data\n",
    "data = df.copy()"
   ]
  },
  {
   "cell_type": "code",
   "execution_count": 20,
   "metadata": {
    "colab": {
     "base_uri": "https://localhost:8080/",
     "height": 458
    },
    "executionInfo": {
     "elapsed": 546,
     "status": "ok",
     "timestamp": 1622302241217,
     "user": {
      "displayName": "Junwoo Yun",
      "photoUrl": "https://lh6.googleusercontent.com/-cg6EEikGzXE/AAAAAAAAAAI/AAAAAAAALOM/hPXlU1iO35A/s64/photo.jpg",
      "userId": "02880833375264387065"
     },
     "user_tz": -540
    },
    "id": "WqjZng_Aveun",
    "outputId": "31a2363e-6685-44c5-be04-19df6464c1a8",
    "scrolled": false
   },
   "outputs": [
    {
     "data": {
      "image/png": "[encoded data removed]",
      "text/plain": [
       "<Figure size 576x432 with 2 Axes>"
      ]
     },
     "metadata": {
      "needs_background": "light"
     },
     "output_type": "display_data"
    }
   ],
   "source": [
    "ax, ax = plt.subplots(1, 2, figsize=(8, 6))\n",
    "\n",
    "df['Survived'].value_counts().plot.pie(explode=[0, 0.1], autopct='%1.2f%%', ax=ax[0], shadow=True)\n",
    "ax[0].set_title('Pie plot - Survived')\n",
    "ax[0].set_ylabel('')\n",
    "sns.countplot('Survived', data=df, ax=ax[1])\n",
    "ax[1].set_title('Count plot - Survived')\n",
    "warnings.filterwarnings(action='ignore') \n",
    "plt.show()"
   ]
  },
  {
   "cell_type": "markdown",
   "metadata": {
    "id": "5R067E66veuo"
   },
   "source": [
    "### Feature extraction \n",
    "\n",
    "I checked missing value by using df.isnull().sum(). And I dropped four features that I thought were unnecessary for a few reasons.\n",
    "\n",
    "Passenger id : Passenger id dropped because it is just index value. \n",
    "Name : In Name, no useful information was found and dropped because it was difficult to parameterize. \n",
    "Ticket : Ticket seemed to be able to guess the location of the rooms or the number of floors, but Fare and Pclass contain the information so i dropped ticket\n",
    "Cabin : Cabin dropped because there were too many missing value.\n"
   ]
  },
  {
   "cell_type": "code",
   "execution_count": 21,
   "metadata": {
    "colab": {
     "base_uri": "https://localhost:8080/"
    },
    "executionInfo": {
     "elapsed": 8,
     "status": "ok",
     "timestamp": 1622302241218,
     "user": {
      "displayName": "Junwoo Yun",
      "photoUrl": "https://lh6.googleusercontent.com/-cg6EEikGzXE/AAAAAAAAAAI/AAAAAAAALOM/hPXlU1iO35A/s64/photo.jpg",
      "userId": "02880833375264387065"
     },
     "user_tz": -540
    },
    "id": "pL2cG5prveuo",
    "outputId": "e5011d67-aa48-48aa-a2ce-0c1e5aea9ac2"
   },
   "outputs": [
    {
     "data": {
      "text/plain": [
       "PassengerId        0\n",
       "Survived           0\n",
       "Pclass             0\n",
       "Name               0\n",
       "Sex                0\n",
       "Age             3292\n",
       "Ticket          4623\n",
       "Fare             134\n",
       "Cabin          67866\n",
       "Embarked         250\n",
       "FamilySize         0\n",
       "dtype: int64"
      ]
     },
     "execution_count": 21,
     "metadata": {},
     "output_type": "execute_result"
    }
   ],
   "source": [
    "df.isnull().sum()"
   ]
  },
  {
   "cell_type": "code",
   "execution_count": 22,
   "metadata": {
    "executionInfo": {
     "elapsed": 3,
     "status": "ok",
     "timestamp": 1622302241594,
     "user": {
      "displayName": "Junwoo Yun",
      "photoUrl": "https://lh6.googleusercontent.com/-cg6EEikGzXE/AAAAAAAAAAI/AAAAAAAALOM/hPXlU1iO35A/s64/photo.jpg",
      "userId": "02880833375264387065"
     },
     "user_tz": -540
    },
    "id": "vjmsyrXSveuo"
   },
   "outputs": [],
   "source": [
    "df.drop( ['PassengerId','Name','Ticket','Cabin'], axis=1, inplace=True)"
   ]
  },
  {
   "cell_type": "markdown",
   "metadata": {
    "id": "AFhcY40Vveuo"
   },
   "source": [
    "\n",
    "I were changed feature Sex and Embarked to number in order to make it easier to learn model.  In case of Sex, female was changed to 0, and male was changed to 1.  Case of Embarked,  changed C to 0, Q to 1, and S to 2."
   ]
  },
  {
   "cell_type": "code",
   "execution_count": 23,
   "metadata": {
    "executionInfo": {
     "elapsed": 3,
     "status": "ok",
     "timestamp": 1622302241594,
     "user": {
      "displayName": "Junwoo Yun",
      "photoUrl": "https://lh6.googleusercontent.com/-cg6EEikGzXE/AAAAAAAAAAI/AAAAAAAALOM/hPXlU1iO35A/s64/photo.jpg",
      "userId": "02880833375264387065"
     },
     "user_tz": -540
    },
    "id": "EF_tS86mveuo"
   },
   "outputs": [],
   "source": [
    "df['Embarked'] = df['Embarked'].map({'C': 0, 'Q': 1, 'S': 2})"
   ]
  },
  {
   "cell_type": "code",
   "execution_count": 24,
   "metadata": {
    "executionInfo": {
     "elapsed": 3,
     "status": "ok",
     "timestamp": 1622302241971,
     "user": {
      "displayName": "Junwoo Yun",
      "photoUrl": "https://lh6.googleusercontent.com/-cg6EEikGzXE/AAAAAAAAAAI/AAAAAAAALOM/hPXlU1iO35A/s64/photo.jpg",
      "userId": "02880833375264387065"
     },
     "user_tz": -540
    },
    "id": "QF-Jsihfveup"
   },
   "outputs": [],
   "source": [
    "df['Sex'] = df['Sex'].map({'female': 0, 'male': 1})"
   ]
  },
  {
   "cell_type": "code",
   "execution_count": 25,
   "metadata": {
    "colab": {
     "base_uri": "https://localhost:8080/",
     "height": 579
    },
    "executionInfo": {
     "elapsed": 1024,
     "status": "ok",
     "timestamp": 1622302242993,
     "user": {
      "displayName": "Junwoo Yun",
      "photoUrl": "https://lh6.googleusercontent.com/-cg6EEikGzXE/AAAAAAAAAAI/AAAAAAAALOM/hPXlU1iO35A/s64/photo.jpg",
      "userId": "02880833375264387065"
     },
     "user_tz": -540
    },
    "id": "yZN5SpA7veup",
    "outputId": "d4582d2d-6f74-4171-90ba-cb03b2b53b3f",
    "scrolled": false
   },
   "outputs": [
    {
     "data": {
      "image/png": "[encoded data removed]",
      "text/plain": [
       "<Figure size 720x720 with 2 Axes>"
      ]
     },
     "metadata": {
      "needs_background": "light"
     },
     "output_type": "display_data"
    }
   ],
   "source": [
    "heatmap_data = df[['Survived', 'Pclass', 'Sex', 'Fare', 'Embarked', 'FamilySize', 'Age']] \n",
    "colormap = plt.cm.RdBu\n",
    "plt.figure(figsize=(10, 10))\n",
    "plt.title('Pearson Correlation of Features', y=1.05, size=15)\n",
    "sns.heatmap(heatmap_data.astype(float).corr(), linewidths=0.1, vmax=1.0,\n",
    "           square=True, cmap=colormap, linecolor='black', annot=True, annot_kws={\"size\": 16})\n",
    "\n",
    "del heatmap_data"
   ]
  },
  {
   "cell_type": "markdown",
   "metadata": {
    "id": "4vL6hlDIveup"
   },
   "source": [
    "## Age\n",
    "\n",
    "There was no feature directly related to Age. According to the P-class, people with a first-class rating are classified as older people. Or I was going to guess the age according to Family Size. But It was complicated and matched the missing value with the average value. For the speed of the model, the number was made according to the range of the age. It is defined smaller than 16 is 0, 16 ~ 32 is 1, 32 ~ 48 is 2, 48 ~64 is 3, larger than 64 is 4."
   ]
  },
  {
   "cell_type": "code",
   "execution_count": 26,
   "metadata": {
    "executionInfo": {
     "elapsed": 5,
     "status": "ok",
     "timestamp": 1622302242994,
     "user": {
      "displayName": "Junwoo Yun",
      "photoUrl": "https://lh6.googleusercontent.com/-cg6EEikGzXE/AAAAAAAAAAI/AAAAAAAALOM/hPXlU1iO35A/s64/photo.jpg",
      "userId": "02880833375264387065"
     },
     "user_tz": -540
    },
    "id": "hUxTObsFveup"
   },
   "outputs": [],
   "source": [
    "df['Age'].fillna(df['Age'].mean(), inplace=True)"
   ]
  },
  {
   "cell_type": "code",
   "execution_count": 27,
   "metadata": {
    "colab": {
     "base_uri": "https://localhost:8080/",
     "height": 359
    },
    "executionInfo": {
     "elapsed": 757,
     "status": "ok",
     "timestamp": 1622302243747,
     "user": {
      "displayName": "Junwoo Yun",
      "photoUrl": "https://lh6.googleusercontent.com/-cg6EEikGzXE/AAAAAAAAAAI/AAAAAAAALOM/hPXlU1iO35A/s64/photo.jpg",
      "userId": "02880833375264387065"
     },
     "user_tz": -540
    },
    "id": "s4qD7lAdveup",
    "outputId": "56f76960-8438-4189-b13d-8481fcdfc31d",
    "scrolled": false
   },
   "outputs": [
    {
     "data": {
      "text/html": [
       "<div>\n",
       "<style scoped>\n",
       "    .dataframe tbody tr th:only-of-type {\n",
       "        vertical-align: middle;\n",
       "    }\n",
       "\n",
       "    .dataframe tbody tr th {\n",
       "        vertical-align: top;\n",
       "    }\n",
       "\n",
       "    .dataframe thead th {\n",
       "        text-align: right;\n",
       "    }\n",
       "</style>\n",
       "<table border=\"1\" class=\"dataframe\">\n",
       "  <thead>\n",
       "    <tr style=\"text-align: right;\">\n",
       "      <th></th>\n",
       "      <th>Survived</th>\n",
       "      <th>Pclass</th>\n",
       "      <th>Sex</th>\n",
       "      <th>Age</th>\n",
       "      <th>Fare</th>\n",
       "      <th>Embarked</th>\n",
       "      <th>FamilySize</th>\n",
       "    </tr>\n",
       "  </thead>\n",
       "  <tbody>\n",
       "    <tr>\n",
       "      <th>0</th>\n",
       "      <td>1</td>\n",
       "      <td>1</td>\n",
       "      <td>1</td>\n",
       "      <td>2.0</td>\n",
       "      <td>27.14</td>\n",
       "      <td>2.0</td>\n",
       "      <td>3</td>\n",
       "    </tr>\n",
       "    <tr>\n",
       "      <th>1</th>\n",
       "      <td>0</td>\n",
       "      <td>3</td>\n",
       "      <td>1</td>\n",
       "      <td>2.0</td>\n",
       "      <td>13.35</td>\n",
       "      <td>2.0</td>\n",
       "      <td>1</td>\n",
       "    </tr>\n",
       "    <tr>\n",
       "      <th>2</th>\n",
       "      <td>0</td>\n",
       "      <td>3</td>\n",
       "      <td>1</td>\n",
       "      <td>0.0</td>\n",
       "      <td>71.29</td>\n",
       "      <td>2.0</td>\n",
       "      <td>4</td>\n",
       "    </tr>\n",
       "    <tr>\n",
       "      <th>3</th>\n",
       "      <td>0</td>\n",
       "      <td>3</td>\n",
       "      <td>1</td>\n",
       "      <td>1.0</td>\n",
       "      <td>13.04</td>\n",
       "      <td>2.0</td>\n",
       "      <td>1</td>\n",
       "    </tr>\n",
       "    <tr>\n",
       "      <th>4</th>\n",
       "      <td>1</td>\n",
       "      <td>3</td>\n",
       "      <td>1</td>\n",
       "      <td>1.0</td>\n",
       "      <td>7.76</td>\n",
       "      <td>2.0</td>\n",
       "      <td>1</td>\n",
       "    </tr>\n",
       "    <tr>\n",
       "      <th>5</th>\n",
       "      <td>0</td>\n",
       "      <td>2</td>\n",
       "      <td>1</td>\n",
       "      <td>2.0</td>\n",
       "      <td>6.71</td>\n",
       "      <td>2.0</td>\n",
       "      <td>1</td>\n",
       "    </tr>\n",
       "    <tr>\n",
       "      <th>6</th>\n",
       "      <td>0</td>\n",
       "      <td>3</td>\n",
       "      <td>1</td>\n",
       "      <td>0.0</td>\n",
       "      <td>9.77</td>\n",
       "      <td>2.0</td>\n",
       "      <td>1</td>\n",
       "    </tr>\n",
       "    <tr>\n",
       "      <th>7</th>\n",
       "      <td>1</td>\n",
       "      <td>3</td>\n",
       "      <td>0</td>\n",
       "      <td>0.0</td>\n",
       "      <td>31.50</td>\n",
       "      <td>2.0</td>\n",
       "      <td>4</td>\n",
       "    </tr>\n",
       "    <tr>\n",
       "      <th>8</th>\n",
       "      <td>0</td>\n",
       "      <td>1</td>\n",
       "      <td>1</td>\n",
       "      <td>1.0</td>\n",
       "      <td>73.02</td>\n",
       "      <td>2.0</td>\n",
       "      <td>4</td>\n",
       "    </tr>\n",
       "    <tr>\n",
       "      <th>9</th>\n",
       "      <td>0</td>\n",
       "      <td>2</td>\n",
       "      <td>1</td>\n",
       "      <td>4.0</td>\n",
       "      <td>9.14</td>\n",
       "      <td>0.0</td>\n",
       "      <td>1</td>\n",
       "    </tr>\n",
       "  </tbody>\n",
       "</table>\n",
       "</div>"
      ],
      "text/plain": [
       "   Survived  Pclass  Sex  Age   Fare  Embarked  FamilySize\n",
       "0         1       1    1  2.0  27.14       2.0           3\n",
       "1         0       3    1  2.0  13.35       2.0           1\n",
       "2         0       3    1  0.0  71.29       2.0           4\n",
       "3         0       3    1  1.0  13.04       2.0           1\n",
       "4         1       3    1  1.0   7.76       2.0           1\n",
       "5         0       2    1  2.0   6.71       2.0           1\n",
       "6         0       3    1  0.0   9.77       2.0           1\n",
       "7         1       3    0  0.0  31.50       2.0           4\n",
       "8         0       1    1  1.0  73.02       2.0           4\n",
       "9         0       2    1  4.0   9.14       0.0           1"
      ]
     },
     "execution_count": 27,
     "metadata": {},
     "output_type": "execute_result"
    }
   ],
   "source": [
    "   \n",
    "df.loc[ df['Age'] <= 16, 'Age'] = 0\n",
    "df.loc[(df['Age'] > 16) & (df['Age'] <= 32), 'Age'] = 1\n",
    "df.loc[(df['Age'] > 32) & (df['Age'] <= 48), 'Age'] = 2\n",
    "df.loc[(df['Age'] > 48) & (df['Age'] <= 64), 'Age'] = 3\n",
    "df.loc[ df['Age'] > 64, 'Age'] = 4\n",
    "    \n",
    "df.head(10)"
   ]
  },
  {
   "cell_type": "markdown",
   "metadata": {
    "id": "c_fe02Njveup"
   },
   "source": [
    "## Fare\n",
    "\n",
    "Fare is most relevant to Pclass in terms of the correction distribution. So I filled the price with the median of each Pclass. At first, I agonized between the Mean and the Median, but decide to put  Median because it depends on the location of the floor and other services, so I thought it would be better to fill the most common and large values Median."
   ]
  },
  {
   "cell_type": "code",
   "execution_count": 28,
   "metadata": {
    "executionInfo": {
     "elapsed": 6,
     "status": "ok",
     "timestamp": 1622302243748,
     "user": {
      "displayName": "Junwoo Yun",
      "photoUrl": "https://lh6.googleusercontent.com/-cg6EEikGzXE/AAAAAAAAAAI/AAAAAAAALOM/hPXlU1iO35A/s64/photo.jpg",
      "userId": "02880833375264387065"
     },
     "user_tz": -540
    },
    "id": "nEl9Z8biveuq"
   },
   "outputs": [],
   "source": [
    "df[\"Fare\"].fillna(df.groupby(\"Pclass\")[\"Fare\"].transform(\"median\"), inplace=True)"
   ]
  },
  {
   "cell_type": "markdown",
   "metadata": {
    "id": "2VtYzm8Oveuq"
   },
   "source": [
    "## Embarked\n",
    "Embarked, like Fare, fills the missing values according to Pclass because Correlations are most associated with Pclass. Earlier, Pclass changed to 0, 1 and 2 so I filled the missing value using Median."
   ]
  },
  {
   "cell_type": "code",
   "execution_count": 29,
   "metadata": {
    "executionInfo": {
     "elapsed": 5,
     "status": "ok",
     "timestamp": 1622302243748,
     "user": {
      "displayName": "Junwoo Yun",
      "photoUrl": "https://lh6.googleusercontent.com/-cg6EEikGzXE/AAAAAAAAAAI/AAAAAAAALOM/hPXlU1iO35A/s64/photo.jpg",
      "userId": "02880833375264387065"
     },
     "user_tz": -540
    },
    "id": "XdeKU2P6veuq"
   },
   "outputs": [],
   "source": [
    "df[\"Embarked\"].fillna(df.groupby(\"Pclass\")[\"Embarked\"].transform(\"median\"), inplace=True)"
   ]
  },
  {
   "cell_type": "markdown",
   "metadata": {
    "id": "ZylNdfTaveuq"
   },
   "source": [
    "## Cheack for missing value"
   ]
  },
  {
   "cell_type": "code",
   "execution_count": 30,
   "metadata": {
    "colab": {
     "base_uri": "https://localhost:8080/"
    },
    "executionInfo": {
     "elapsed": 4,
     "status": "ok",
     "timestamp": 1622302244598,
     "user": {
      "displayName": "Junwoo Yun",
      "photoUrl": "https://lh6.googleusercontent.com/-cg6EEikGzXE/AAAAAAAAAAI/AAAAAAAALOM/hPXlU1iO35A/s64/photo.jpg",
      "userId": "02880833375264387065"
     },
     "user_tz": -540
    },
    "id": "4TV9bvR_veuq",
    "outputId": "a833e248-5c89-454f-d9a9-a1707b223047"
   },
   "outputs": [
    {
     "data": {
      "text/plain": [
       "Survived      0\n",
       "Pclass        0\n",
       "Sex           0\n",
       "Age           0\n",
       "Fare          0\n",
       "Embarked      0\n",
       "FamilySize    0\n",
       "dtype: int64"
      ]
     },
     "execution_count": 30,
     "metadata": {},
     "output_type": "execute_result"
    }
   ],
   "source": [
    "df.isnull().sum()"
   ]
  },
  {
   "cell_type": "code",
   "execution_count": null,
   "metadata": {
    "executionInfo": {
     "elapsed": 3,
     "status": "ok",
     "timestamp": 1622302244599,
     "user": {
      "displayName": "Junwoo Yun",
      "photoUrl": "https://lh6.googleusercontent.com/-cg6EEikGzXE/AAAAAAAAAAI/AAAAAAAALOM/hPXlU1iO35A/s64/photo.jpg",
      "userId": "02880833375264387065"
     },
     "user_tz": -540
    },
    "id": "hYmm4wk0veur"
   },
   "outputs": [],
   "source": []
  },
  {
   "cell_type": "markdown",
   "metadata": {
    "id": "J3lH8U8Qveur"
   },
   "source": [
    "## Modelling"
   ]
  },
  {
   "cell_type": "code",
   "execution_count": 31,
   "metadata": {
    "executionInfo": {
     "elapsed": 5,
     "status": "ok",
     "timestamp": 1622302245064,
     "user": {
      "displayName": "Junwoo Yun",
      "photoUrl": "https://lh6.googleusercontent.com/-cg6EEikGzXE/AAAAAAAAAAI/AAAAAAAALOM/hPXlU1iO35A/s64/photo.jpg",
      "userId": "02880833375264387065"
     },
     "user_tz": -540
    },
    "id": "D3XNGMpRveur"
   },
   "outputs": [],
   "source": [
    "from sklearn.model_selection import train_test_split\n",
    "from sklearn.neighbors import KNeighborsClassifier\n",
    "from sklearn.tree import DecisionTreeClassifier\n",
    "from sklearn.ensemble import RandomForestClassifier\n",
    "from sklearn.naive_bayes import GaussianNB\n",
    "from sklearn.svm import LinearSVC\n",
    "from sklearn.linear_model import LogisticRegression\n",
    "from sklearn import metrics"
   ]
  },
  {
   "cell_type": "code",
   "execution_count": 32,
   "metadata": {
    "executionInfo": {
     "elapsed": 319,
     "status": "ok",
     "timestamp": 1622303015890,
     "user": {
      "displayName": "Junwoo Yun",
      "photoUrl": "https://lh6.googleusercontent.com/-cg6EEikGzXE/AAAAAAAAAAI/AAAAAAAALOM/hPXlU1iO35A/s64/photo.jpg",
      "userId": "02880833375264387065"
     },
     "user_tz": -540
    },
    "id": "oAP6PcMRveur"
   },
   "outputs": [],
   "source": [
    "X=df.drop('Survived',axis=1)\n",
    "y = df['Survived']"
   ]
  },
  {
   "cell_type": "code",
   "execution_count": 33,
   "metadata": {
    "executionInfo": {
     "elapsed": 325,
     "status": "ok",
     "timestamp": 1622303092962,
     "user": {
      "displayName": "Junwoo Yun",
      "photoUrl": "https://lh6.googleusercontent.com/-cg6EEikGzXE/AAAAAAAAAAI/AAAAAAAALOM/hPXlU1iO35A/s64/photo.jpg",
      "userId": "02880833375264387065"
     },
     "user_tz": -540
    },
    "id": "m2hrsBwIveur"
   },
   "outputs": [],
   "source": [
    "X_train, X_test, y_train, y_test = train_test_split(X, y, test_size=0.20, random_state=1004)"
   ]
  },
  {
   "cell_type": "markdown",
   "metadata": {
    "id": "hZlPVazuveur"
   },
   "source": [
    "##  cross validation (k-fold)"
   ]
  },
  {
   "cell_type": "code",
   "execution_count": 34,
   "metadata": {
    "executionInfo": {
     "elapsed": 3,
     "status": "ok",
     "timestamp": 1622302254863,
     "user": {
      "displayName": "Junwoo Yun",
      "photoUrl": "https://lh6.googleusercontent.com/-cg6EEikGzXE/AAAAAAAAAAI/AAAAAAAALOM/hPXlU1iO35A/s64/photo.jpg",
      "userId": "02880833375264387065"
     },
     "user_tz": -540
    },
    "id": "vjZuppmtveur"
   },
   "outputs": [],
   "source": [
    "from sklearn.model_selection import KFold\n",
    "from sklearn.model_selection import cross_val_score\n",
    "k_fold = KFold(n_splits=10, shuffle=True, random_state=0)"
   ]
  },
  {
   "cell_type": "markdown",
   "metadata": {
    "id": "3nX9Qn11veus"
   },
   "source": [
    "# knn"
   ]
  },
  {
   "cell_type": "code",
   "execution_count": 35,
   "metadata": {
    "colab": {
     "base_uri": "https://localhost:8080/"
    },
    "executionInfo": {
     "elapsed": 9475,
     "status": "ok",
     "timestamp": 1622302268681,
     "user": {
      "displayName": "Junwoo Yun",
      "photoUrl": "https://lh6.googleusercontent.com/-cg6EEikGzXE/AAAAAAAAAAI/AAAAAAAALOM/hPXlU1iO35A/s64/photo.jpg",
      "userId": "02880833375264387065"
     },
     "user_tz": -540
    },
    "id": "IfURv0K8veus",
    "outputId": "03b740ae-7e6c-4cf0-acf1-9b864225dc68"
   },
   "outputs": [
    {
     "name": "stdout",
     "output_type": "stream",
     "text": [
      "[0.753    0.74575  0.757    0.7515   0.756125 0.75025  0.7485   0.748875\n",
      " 0.759    0.7555  ]\n"
     ]
    }
   ],
   "source": [
    "\n",
    "knn = KNeighborsClassifier(n_neighbors = 13)\n",
    "scoring = 'accuracy'\n",
    "score = cross_val_score(knn, X_train, y_train, cv=k_fold, n_jobs=1, scoring=scoring)\n",
    "print(score)"
   ]
  },
  {
   "cell_type": "code",
   "execution_count": 36,
   "metadata": {
    "id": "0kBHhG3xveus",
    "outputId": "fbcbbdb8-5998-490e-ec9b-3ff460d24067"
   },
   "outputs": [
    {
     "data": {
      "text/plain": [
       "75.26"
      ]
     },
     "execution_count": 36,
     "metadata": {},
     "output_type": "execute_result"
    }
   ],
   "source": [
    "score_knn = round(np.mean(score)*100, 2)\n",
    "score_knn"
   ]
  },
  {
   "cell_type": "markdown",
   "metadata": {
    "id": "jObNe3D7veus"
   },
   "source": [
    "# random forest"
   ]
  },
  {
   "cell_type": "code",
   "execution_count": 37,
   "metadata": {
    "id": "XpuDSHBrveus",
    "outputId": "031f091c-c183-488f-8e20-a87f8d56eac0"
   },
   "outputs": [
    {
     "name": "stdout",
     "output_type": "stream",
     "text": [
      "[0.696375 0.702125 0.69925  0.700375 0.710625 0.7025   0.70625  0.707375\n",
      " 0.70875  0.705875]\n"
     ]
    }
   ],
   "source": [
    "rf = RandomForestClassifier(n_estimators=13)\n",
    "scoring = 'accuracy'\n",
    "score = cross_val_score(rf, X_train, y_train, cv=k_fold, n_jobs=1, scoring=scoring)\n",
    "print(score)"
   ]
  },
  {
   "cell_type": "code",
   "execution_count": 38,
   "metadata": {
    "id": "PdKBuAqTveut",
    "outputId": "530c1665-335e-4c1a-dcc3-f5c768f48a22"
   },
   "outputs": [
    {
     "data": {
      "text/plain": [
       "70.4"
      ]
     },
     "execution_count": 38,
     "metadata": {},
     "output_type": "execute_result"
    }
   ],
   "source": [
    "score_rf = round(np.mean(score)*100, 2)\n",
    "score_rf"
   ]
  },
  {
   "cell_type": "markdown",
   "metadata": {
    "id": "ZxSvAGb-veut"
   },
   "source": [
    "# Naive Bayes"
   ]
  },
  {
   "cell_type": "code",
   "execution_count": 39,
   "metadata": {
    "id": "P6UlFs4Yveut",
    "outputId": "9ee87fa4-b624-45fa-b661-53833c2f35ed"
   },
   "outputs": [
    {
     "name": "stdout",
     "output_type": "stream",
     "text": [
      "[0.737    0.728125 0.740125 0.734375 0.73775  0.731125 0.7295   0.725\n",
      " 0.741125 0.742875]\n"
     ]
    }
   ],
   "source": [
    "nb = GaussianNB()\n",
    "scoring = 'accuracy'\n",
    "score = cross_val_score(nb, X_train, y_train, cv=k_fold, n_jobs=1, scoring=scoring)\n",
    "print(score)"
   ]
  },
  {
   "cell_type": "code",
   "execution_count": 40,
   "metadata": {
    "id": "tvMKxZNkveut",
    "outputId": "a6b5f7fd-a69f-4a28-ce16-ac9b63736a94"
   },
   "outputs": [
    {
     "data": {
      "text/plain": [
       "73.47"
      ]
     },
     "execution_count": 40,
     "metadata": {},
     "output_type": "execute_result"
    }
   ],
   "source": [
    "score_nb = round(np.mean(score)*100, 2)\n",
    "score_nb"
   ]
  },
  {
   "cell_type": "markdown",
   "metadata": {
    "id": "YeoL62Qdveut"
   },
   "source": [
    "# Linear_SVC"
   ]
  },
  {
   "cell_type": "code",
   "execution_count": 41,
   "metadata": {
    "id": "n4Omx8chveuu"
   },
   "outputs": [],
   "source": [
    "#l_svc = LinearSVC()\n",
    "#scoring = 'accuracy'\n",
    "#score = cross_val_score(l_svc, X_train, y_train, cv=k_fold, n_jobs=1, scoring=scoring)\n",
    "#print(score)"
   ]
  },
  {
   "cell_type": "code",
   "execution_count": 42,
   "metadata": {
    "id": "XaUrmCrdveuu"
   },
   "outputs": [],
   "source": [
    "#score_l_svc = round(np.mean(score)*100, 2)\n",
    "#score_l_svc"
   ]
  },
  {
   "cell_type": "markdown",
   "metadata": {
    "id": "UZROxKWUveuu"
   },
   "source": [
    "# LogesticRegression"
   ]
  },
  {
   "cell_type": "code",
   "execution_count": 43,
   "metadata": {
    "id": "D9yVRsjxveuu",
    "outputId": "17a62235-56e0-4fc3-c134-1fc93b355e24"
   },
   "outputs": [
    {
     "name": "stdout",
     "output_type": "stream",
     "text": [
      "[0.76275  0.7605   0.76675  0.77075  0.7745   0.768125 0.766125 0.763375\n",
      " 0.764875 0.772125]\n"
     ]
    }
   ],
   "source": [
    "lr = LogisticRegression()\n",
    "scoring = 'accuracy'\n",
    "score = cross_val_score(lr, X_train, y_train, cv=k_fold, n_jobs=1, scoring=scoring)\n",
    "print(score)\n",
    "warnings.filterwarnings(action='ignore') "
   ]
  },
  {
   "cell_type": "code",
   "execution_count": 44,
   "metadata": {
    "id": "zzoH6wTcveuu",
    "outputId": "540b2069-0975-44ae-ec2b-a719d6769e86"
   },
   "outputs": [
    {
     "data": {
      "text/plain": [
       "76.7"
      ]
     },
     "execution_count": 44,
     "metadata": {},
     "output_type": "execute_result"
    }
   ],
   "source": [
    "score_legression = round(np.mean(score)*100, 2)\n",
    "score_legression"
   ]
  },
  {
   "cell_type": "markdown",
   "metadata": {
    "id": "ErP8TaCoveuu"
   },
   "source": [
    "## conclusion"
   ]
  },
  {
   "cell_type": "code",
   "execution_count": 45,
   "metadata": {
    "id": "8bU5QqCiveuv",
    "outputId": "34157b0a-f98b-497f-90a4-70df4e88d5cb",
    "scrolled": true
   },
   "outputs": [
    {
     "data": {
      "text/html": [
       "<div>\n",
       "<style scoped>\n",
       "    .dataframe tbody tr th:only-of-type {\n",
       "        vertical-align: middle;\n",
       "    }\n",
       "\n",
       "    .dataframe tbody tr th {\n",
       "        vertical-align: top;\n",
       "    }\n",
       "\n",
       "    .dataframe thead th {\n",
       "        text-align: right;\n",
       "    }\n",
       "</style>\n",
       "<table border=\"1\" class=\"dataframe\">\n",
       "  <thead>\n",
       "    <tr style=\"text-align: right;\">\n",
       "      <th></th>\n",
       "      <th>Model</th>\n",
       "      <th>Score</th>\n",
       "    </tr>\n",
       "  </thead>\n",
       "  <tbody>\n",
       "    <tr>\n",
       "      <th>1</th>\n",
       "      <td>Logistic Regression</td>\n",
       "      <td>76.70</td>\n",
       "    </tr>\n",
       "    <tr>\n",
       "      <th>0</th>\n",
       "      <td>KNN</td>\n",
       "      <td>75.26</td>\n",
       "    </tr>\n",
       "    <tr>\n",
       "      <th>3</th>\n",
       "      <td>Naive Bayes</td>\n",
       "      <td>73.47</td>\n",
       "    </tr>\n",
       "    <tr>\n",
       "      <th>2</th>\n",
       "      <td>Random Forest</td>\n",
       "      <td>70.40</td>\n",
       "    </tr>\n",
       "  </tbody>\n",
       "</table>\n",
       "</div>"
      ],
      "text/plain": [
       "                 Model  Score\n",
       "1  Logistic Regression  76.70\n",
       "0                  KNN  75.26\n",
       "3          Naive Bayes  73.47\n",
       "2        Random Forest  70.40"
      ]
     },
     "execution_count": 45,
     "metadata": {},
     "output_type": "execute_result"
    }
   ],
   "source": [
    "models = pd.DataFrame({\n",
    "    'Model': ['KNN', 'Logistic Regression', \n",
    "              'Random Forest', 'Naive Bayes' ],\n",
    "    'Score': [score_knn, score_legression, \n",
    "              score_rf, score_nb]})\n",
    "models.sort_values(by='Score', ascending=False)"
   ]
  },
  {
   "cell_type": "markdown",
   "metadata": {
    "id": "dD_qyR4Qveuv"
   },
   "source": [
    "# Evaluation"
   ]
  },
  {
   "cell_type": "markdown",
   "metadata": {
    "id": "UCL1xEv0veuv"
   },
   "source": [
    "### Internal evaluation\n",
    "\n",
    "Accuracy alone cannot accurately evaluate performance, so we use Roc curve that considers Sensitivity and Specificity together. I used Roc curve in my internal assessment. The values of auc, which obtained the under area of the roc-curve respectively, were 0.815(knn), 0.813(nb), and 0.825(lr), similar to the order of the accuracy. In other words, both logistic regression 's accruacy and rock curve sides showed better performance."
   ]
  },
  {
   "cell_type": "code",
   "execution_count": 46,
   "metadata": {
    "id": "nNf9GhiFveuv"
   },
   "outputs": [],
   "source": [
    "from sklearn.metrics import roc_curve\n",
    "from sklearn.metrics import roc_auc_score"
   ]
  },
  {
   "cell_type": "code",
   "execution_count": 47,
   "metadata": {
    "id": "pNmto6eOveuv"
   },
   "outputs": [],
   "source": [
    "def draw_model_roc(model,name):\n",
    "    ns_probs = [0 for _ in range(len(y_test))]\n",
    "    lr_probs = model.predict_proba(X_test)\n",
    "    lr_probs = lr_probs[:, 1]\n",
    "\n",
    "    ns_auc = roc_auc_score(y_test, ns_probs)\n",
    "    lr_auc = roc_auc_score(y_test, lr_probs)\n",
    "    print('No Skill: ROC AUC=%.3f' % (ns_auc))\n",
    "    print('%s     : ROC AUC=%.3f' % (name,lr_auc))\n",
    "    ns_fpr, ns_tpr, _ = roc_curve(y_test, ns_probs)\n",
    "    lr_fpr, lr_tpr, _ = roc_curve(y_test, lr_probs)\n",
    "\n",
    "    plt.plot(ns_fpr, ns_tpr, linestyle='--', label='No Skill')\n",
    "    plt.plot(lr_fpr, lr_tpr, marker='.', label=name)\n",
    "    plt.xlabel('False Positive Rate')\n",
    "    plt.ylabel('True Positive Rate')\n",
    "    plt.legend()\n",
    "    plt.show()"
   ]
  },
  {
   "cell_type": "code",
   "execution_count": 48,
   "metadata": {
    "id": "kBzq9wMhveuv",
    "outputId": "6294c4b2-9523-459a-a741-f1f0674bdd88"
   },
   "outputs": [
    {
     "name": "stdout",
     "output_type": "stream",
     "text": [
      "No Skill: ROC AUC=0.500\n",
      "knn     : ROC AUC=0.815\n"
     ]
    },
    {
     "data": {
      "image/png": "[encoded data removed]",
      "text/plain": [
       "<Figure size 432x288 with 1 Axes>"
      ]
     },
     "metadata": {
      "needs_background": "light"
     },
     "output_type": "display_data"
    }
   ],
   "source": [
    "knn.fit(X_train,y_train)\n",
    "draw_model_roc(knn,'knn')"
   ]
  },
  {
   "cell_type": "code",
   "execution_count": 49,
   "metadata": {
    "id": "-JiCNojzveuw",
    "outputId": "451aeaed-3ff5-47d6-89e8-95b81ade80a1"
   },
   "outputs": [
    {
     "name": "stdout",
     "output_type": "stream",
     "text": [
      "No Skill: ROC AUC=0.500\n",
      "nb     : ROC AUC=0.813\n"
     ]
    },
    {
     "data": {
      "image/png": "[encoded data removed]",
      "text/plain": [
       "<Figure size 432x288 with 1 Axes>"
      ]
     },
     "metadata": {
      "needs_background": "light"
     },
     "output_type": "display_data"
    }
   ],
   "source": [
    "nb.fit(X_train,y_train)\n",
    "draw_model_roc(nb,'nb')"
   ]
  },
  {
   "cell_type": "code",
   "execution_count": 50,
   "metadata": {
    "id": "vKXMQCMWveuw",
    "outputId": "3407dd7e-f7a3-458f-9649-94ef39bf30f9"
   },
   "outputs": [
    {
     "name": "stdout",
     "output_type": "stream",
     "text": [
      "No Skill: ROC AUC=0.500\n",
      "lr     : ROC AUC=0.825\n"
     ]
    },
    {
     "data": {
      "image/png": "[encoded data removed]",
      "text/plain": [
       "<Figure size 432x288 with 1 Axes>"
      ]
     },
     "metadata": {
      "needs_background": "light"
     },
     "output_type": "display_data"
    }
   ],
   "source": [
    "lr.fit(X_train,y_train)\n",
    "draw_model_roc(lr,'lr')\n",
    "warnings.filterwarnings(action='ignore') "
   ]
  },
  {
   "cell_type": "code",
   "execution_count": 51,
   "metadata": {},
   "outputs": [
    {
     "data": {
      "image/png": "[encoded data removed]",
      "text/plain": [
       "<Figure size 432x288 with 1 Axes>"
      ]
     },
     "metadata": {
      "needs_background": "light"
     },
     "output_type": "display_data"
    }
   ],
   "source": [
    "result_acc = {0.73,0.77,0.75}\n",
    "result_auc = {0.813, 0.825, 0.815}\n",
    "model = {'NB','RL','KNN'}\n",
    "index = np.arange(3)\n",
    "plt.bar(index, result_acc, color = \"b\", align='edge', width=0.2, label='accuracy')\n",
    "plt.bar(index+0.2, result_auc, color = \"r\", align='edge', width=0.2, label='auc')\n",
    "plt.xticks(index+0.2, model)\n",
    "plt.xlabel('model')\n",
    "plt.title('error bar')\n",
    "plt.ylim([0.6, 0.9])\n",
    "plt.show()"
   ]
  },
  {
   "cell_type": "markdown",
   "metadata": {
    "id": "jdr9d-u-veuw"
   },
   "source": [
    "### External evaluation\n",
    "\n",
    "Three models were also measured in external evaluation. As before, the highest score in logistic regression was achieved. Similarly, by 0.81(knn), 0.81(nb), 0.83(lr) the logistic regression showed the highest performance in external evaluation."
   ]
  },
  {
   "cell_type": "code",
   "execution_count": 52,
   "metadata": {
    "colab": {
     "base_uri": "https://localhost:8080/",
     "height": 313
    },
    "executionInfo": {
     "elapsed": 13575,
     "status": "ok",
     "timestamp": 1622303463256,
     "user": {
      "displayName": "Junwoo Yun",
      "photoUrl": "https://lh6.googleusercontent.com/-cg6EEikGzXE/AAAAAAAAAAI/AAAAAAAALOM/hPXlU1iO35A/s64/photo.jpg",
      "userId": "02880833375264387065"
     },
     "user_tz": -540
    },
    "id": "l-0rlTRwveuw",
    "outputId": "17fa5c68-e845-41d6-ff69-c149d6ec17d7"
   },
   "outputs": [],
   "source": [
    "import gc\n",
    "from sklearn.metrics import roc_auc_score, plot_roc_curve"
   ]
  },
  {
   "cell_type": "code",
   "execution_count": 53,
   "metadata": {
    "colab": {
     "base_uri": "https://localhost:8080/",
     "height": 313
    },
    "executionInfo": {
     "elapsed": 18245,
     "status": "ok",
     "timestamp": 1622303494471,
     "user": {
      "displayName": "Junwoo Yun",
      "photoUrl": "https://lh6.googleusercontent.com/-cg6EEikGzXE/AAAAAAAAAAI/AAAAAAAALOM/hPXlU1iO35A/s64/photo.jpg",
      "userId": "02880833375264387065"
     },
     "user_tz": -540
    },
    "id": "a-gYA-pcveux",
    "outputId": "dd372c06-9c19-46f0-e773-3e37ad8501af",
    "scrolled": true
   },
   "outputs": [
    {
     "name": "stdout",
     "output_type": "stream",
     "text": [
      "0.7467601999184007\n"
     ]
    },
    {
     "data": {
      "text/plain": [
       "<sklearn.metrics._plot.roc_curve.RocCurveDisplay at 0x7f900863b1f0>"
      ]
     },
     "execution_count": 53,
     "metadata": {},
     "output_type": "execute_result"
    },
    {
     "data": {
      "image/png": "[encoded data removed]",
      "text/plain": [
       "<Figure size 432x288 with 1 Axes>"
      ]
     },
     "metadata": {
      "needs_background": "light"
     },
     "output_type": "display_data"
    }
   ],
   "source": [
    "result = []\n",
    "for train_index, _ in k_fold.split(X_train, y_train):\n",
    "  x, y = X_train.iloc[list(train_index)], y_train.iloc[list(train_index)]\n",
    "  clf = KNeighborsClassifier(n_neighbors = 13).fit(x, y)\n",
    "  y_test_pred = clf.predict(X_test)\n",
    "  result.append(roc_auc_score(y_test, y_test_pred))\n",
    "  gc.collect()\n",
    "print(np.array(result).mean())\n",
    "plot_roc_curve(clf, X_test, y_test)  \n"
   ]
  },
  {
   "cell_type": "code",
   "execution_count": 54,
   "metadata": {
    "colab": {
     "base_uri": "https://localhost:8080/",
     "height": 313
    },
    "executionInfo": {
     "elapsed": 1610,
     "status": "ok",
     "timestamp": 1622303496068,
     "user": {
      "displayName": "Junwoo Yun",
      "photoUrl": "https://lh6.googleusercontent.com/-cg6EEikGzXE/AAAAAAAAAAI/AAAAAAAALOM/hPXlU1iO35A/s64/photo.jpg",
      "userId": "02880833375264387065"
     },
     "user_tz": -540
    },
    "id": "1SoCLB3Fveux",
    "outputId": "9dc22290-109b-4c2c-eac1-bb61ea496e26"
   },
   "outputs": [
    {
     "name": "stdout",
     "output_type": "stream",
     "text": [
      "0.7269188086495308\n"
     ]
    },
    {
     "data": {
      "text/plain": [
       "<sklearn.metrics._plot.roc_curve.RocCurveDisplay at 0x7f900765c6a0>"
      ]
     },
     "execution_count": 54,
     "metadata": {},
     "output_type": "execute_result"
    },
    {
     "data": {
      "image/png": "[encoded data removed]",
      "text/plain": [
       "<Figure size 432x288 with 1 Axes>"
      ]
     },
     "metadata": {
      "needs_background": "light"
     },
     "output_type": "display_data"
    }
   ],
   "source": [
    "result = []\n",
    "for train_index, _ in k_fold.split(X_train, y_train):\n",
    "  x, y = X_train.iloc[list(train_index)], y_train.iloc[list(train_index)]\n",
    "  clf = GaussianNB().fit(x, y)\n",
    "  y_test_pred = clf.predict(X_test)\n",
    "  result.append(roc_auc_score(y_test, y_test_pred))\n",
    "  gc.collect()\n",
    "print(np.array(result).mean())\n",
    "plot_roc_curve(clf, X_test, y_test)  \n"
   ]
  },
  {
   "cell_type": "code",
   "execution_count": 55,
   "metadata": {
    "scrolled": true
   },
   "outputs": [
    {
     "name": "stdout",
     "output_type": "stream",
     "text": [
      "0.7648045695634436\n"
     ]
    },
    {
     "data": {
      "text/plain": [
       "<sklearn.metrics._plot.roc_curve.RocCurveDisplay at 0x7f9008962850>"
      ]
     },
     "execution_count": 55,
     "metadata": {},
     "output_type": "execute_result"
    },
    {
     "data": {
      "image/png": "[encoded data removed]",
      "text/plain": [
       "<Figure size 432x288 with 1 Axes>"
      ]
     },
     "metadata": {
      "needs_background": "light"
     },
     "output_type": "display_data"
    }
   ],
   "source": [
    "warnings.filterwarnings(action='ignore') \n",
    "\n",
    "result = []\n",
    "for train_index, _ in k_fold.split(X_train, y_train):\n",
    "  x, y = X_train.iloc[list(train_index)], y_train.iloc[list(train_index)]\n",
    "  clf = LogisticRegression().fit(x, y)\n",
    "  y_test_pred = clf.predict(X_test)\n",
    "  result.append(roc_auc_score(y_test, y_test_pred))\n",
    "  gc.collect()\n",
    "print(np.array(result).mean())\n",
    "plot_roc_curve(clf, X_test, y_test)  "
   ]
  },
  {
   "cell_type": "code",
   "execution_count": 56,
   "metadata": {},
   "outputs": [
    {
     "data": {
      "image/png": "[encoded data removed]",
      "text/plain": [
       "<Figure size 432x288 with 1 Axes>"
      ]
     },
     "metadata": {
      "needs_background": "light"
     },
     "output_type": "display_data"
    }
   ],
   "source": [
    "result_acc_2 = {0.72,0.77,0.74}\n",
    "result_auc_2 =  {0.81,0.83,0.812}\n",
    "model_2 = {'NB','RL','KNN'}\n",
    "index = np.arange(3)\n",
    "plt.bar(index, result_acc_2, color = \"b\", align='edge', width=0.2, label='accuracy')\n",
    "plt.bar(index+0.2, result_auc_2, color = \"r\", align='edge', width=0.2, label='auc')\n",
    "plt.xticks(index+0.2, model_2)\n",
    "plt.xlabel('model')\n",
    "plt.title('error bar')\n",
    "plt.ylim([0.6, 0.9])\n",
    "plt.show()"
   ]
  },
  {
   "cell_type": "markdown",
   "metadata": {
    "id": "nuk00Jtjveuy"
   },
   "source": [
    "# conclusion"
   ]
  },
  {
   "cell_type": "code",
   "execution_count": 57,
   "metadata": {
    "id": "dU55whc3veuy"
   },
   "outputs": [
    {
     "data": {
      "image/png": "[encoded data removed]",
      "text/plain": [
       "<Figure size 720x504 with 1 Axes>"
      ]
     },
     "metadata": {
      "needs_background": "light"
     },
     "output_type": "display_data"
    }
   ],
   "source": [
    "plt.figure(figsize=(10,7))\n",
    "rf.fit(X_train,y_train)\n",
    "plt.barh(X_train.columns,rf.feature_importances_)\n",
    "plt.title('feature importance')\n",
    "plt.show()\n",
    "\n",
    "# this feature importance is by random forest"
   ]
  },
  {
   "cell_type": "markdown",
   "metadata": {},
   "source": [
    "A number of features were analyzed, and feature engineering was performed, such as filling the missing value and dropping unnecessary features by using correlation. I chose several models with high scores using several models(knn, logistic regression, random forest, SVM gaussianNB, and so on). Using the selected models, internal evaluation was carried out using the roc-curve. We also used the test set to draw the roc-curve and perform the external evaluation. As a result, logistic regression is the best model.\n",
    "\n",
    "What was different from my expectation was that the random forest had a low score. This is because random forest works well on large datasets and has high accuracy. After considering the reason, I think if it was because overfitting occurred and there was a little noise in the prediction result. I also checked that the data set I received was not real data, Sometimes there was strange data. So I guess that's why the random forest score is low because there are wrong data in between\n",
    "\n",
    "As expected, Fare and Sex were important features of survival rates. A person with a high Fare would not be assigned to a third class downstairs with a high density of people. The more expensive Fare is, the higher floor and the less the density of people, the safer the room will be assigned. There were also life jacket and lifeboats near the first class room. That's why Fare has important feature results. Sex is also an important feature. Just as the Titanic movie shows a scene in which women and children are put on a lifeboat first, there must have been a cultural aspect of saving women and children first in real situation. \n",
    "\n",
    "The importance of Sex was high, while the importance of Age was lower than expected. This is because both must be of high importance according to the cultural aspect of rescuing the weak first. I guessed the reason is that children and the elderly are have the lack of the ability to escape. In addition to the features given, I looked at the Titanic's design and found that there were other factors related to survival rates, such as poor Titanic design. \n",
    "\n",
    "Through this final term, I realized that feature engineering was important and need put a lot of effort and time, not just to import package and train models. I also realized that the accuracy is different each models we learned in theory. And each model's importance of features and result are different. Finally, there were some results that were slightly different from the hypotheses I set. So I felt that detailed analysis was important.\n"
   ]
  },
  {
   "cell_type": "markdown",
   "metadata": {
    "id": "ant8Obxvveuy"
   },
   "source": [
    "### reference\n",
    "https://www.youtube.com/channel/UCxP77kNgVfiiG6CXZ5WMuAQ\n",
    "https://www.kaggle.com/c/titanic/code?competitionId=3136&sortBy=voteCount\n",
    "https://www.kaggle.com/startupsci/titanic-data-science-solutions\n",
    "https://www.kaggle.com/daehungwak/guide-kor-dg\n"
   ]
  }
 ],
 "metadata": {
  "colab": {
   "name": "20161190.ipynb",
   "provenance": [],
   "toc_visible": true
  },
  "kernelspec": {
   "display_name": "Python 3",
   "language": "python",
   "name": "python3"
  },
  "language_info": {
   "codemirror_mode": {
    "name": "ipython",
    "version": 3
   },
   "file_extension": ".py",
   "mimetype": "text/x-python",
   "name": "python",
   "nbconvert_exporter": "python",
   "pygments_lexer": "ipython3",
   "version": "3.8.5"
  }
 },
 "nbformat": 4,
 "nbformat_minor": 1
}
